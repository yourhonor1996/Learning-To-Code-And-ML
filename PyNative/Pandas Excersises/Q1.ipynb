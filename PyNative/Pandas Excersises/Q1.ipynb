{
 "metadata": {
  "language_info": {
   "codemirror_mode": {
    "name": "ipython",
    "version": 3
   },
   "file_extension": ".py",
   "mimetype": "text/x-python",
   "name": "python",
   "nbconvert_exporter": "python",
   "pygments_lexer": "ipython3",
   "version": "3.8.6-final"
  },
  "orig_nbformat": 2,
  "kernelspec": {
   "name": "python3",
   "display_name": "Python 3.8.6 64-bit ('.venv')",
   "metadata": {
    "interpreter": {
     "hash": "7d3bd9be18956f2458d884d257f7863f116c718bd9b47d67650bbc9122ad43e1"
    }
   }
  }
 },
 "nbformat": 4,
 "nbformat_minor": 2,
 "cells": [
  {
   "cell_type": "code",
   "execution_count": 120,
   "metadata": {},
   "outputs": [],
   "source": [
    "import pandas as pd\n",
    "import numpy as np"
   ]
  },
  {
   "cell_type": "code",
   "execution_count": 121,
   "metadata": {},
   "outputs": [
    {
     "output_type": "execute_result",
     "data": {
      "text/plain": [
       "    index     company body-style  wheel-base  length engine-type  \\\n",
       "54     79      toyota      wagon       104.5   187.8        dohc   \n",
       "55     80  volkswagen      sedan        97.3   171.7         ohc   \n",
       "56     81  volkswagen      sedan        97.3   171.7         ohc   \n",
       "57     82  volkswagen      sedan        97.3   171.7         ohc   \n",
       "58     86  volkswagen      sedan        97.3   171.7         ohc   \n",
       "59     87       volvo      sedan       104.3   188.8         ohc   \n",
       "60     88       volvo      wagon       104.3   188.8         ohc   \n",
       "\n",
       "   num-of-cylinders  horsepower  average-mileage    price  \n",
       "54              six         156               19  15750.0  \n",
       "55             four          52               37   7775.0  \n",
       "56             four          85               27   7975.0  \n",
       "57             four          52               37   7995.0  \n",
       "58             four         100               26   9995.0  \n",
       "59             four         114               23  12940.0  \n",
       "60             four         114               23  13415.0  "
      ],
      "text/html": "<div>\n<style scoped>\n    .dataframe tbody tr th:only-of-type {\n        vertical-align: middle;\n    }\n\n    .dataframe tbody tr th {\n        vertical-align: top;\n    }\n\n    .dataframe thead th {\n        text-align: right;\n    }\n</style>\n<table border=\"1\" class=\"dataframe\">\n  <thead>\n    <tr style=\"text-align: right;\">\n      <th></th>\n      <th>index</th>\n      <th>company</th>\n      <th>body-style</th>\n      <th>wheel-base</th>\n      <th>length</th>\n      <th>engine-type</th>\n      <th>num-of-cylinders</th>\n      <th>horsepower</th>\n      <th>average-mileage</th>\n      <th>price</th>\n    </tr>\n  </thead>\n  <tbody>\n    <tr>\n      <th>54</th>\n      <td>79</td>\n      <td>toyota</td>\n      <td>wagon</td>\n      <td>104.5</td>\n      <td>187.8</td>\n      <td>dohc</td>\n      <td>six</td>\n      <td>156</td>\n      <td>19</td>\n      <td>15750.0</td>\n    </tr>\n    <tr>\n      <th>55</th>\n      <td>80</td>\n      <td>volkswagen</td>\n      <td>sedan</td>\n      <td>97.3</td>\n      <td>171.7</td>\n      <td>ohc</td>\n      <td>four</td>\n      <td>52</td>\n      <td>37</td>\n      <td>7775.0</td>\n    </tr>\n    <tr>\n      <th>56</th>\n      <td>81</td>\n      <td>volkswagen</td>\n      <td>sedan</td>\n      <td>97.3</td>\n      <td>171.7</td>\n      <td>ohc</td>\n      <td>four</td>\n      <td>85</td>\n      <td>27</td>\n      <td>7975.0</td>\n    </tr>\n    <tr>\n      <th>57</th>\n      <td>82</td>\n      <td>volkswagen</td>\n      <td>sedan</td>\n      <td>97.3</td>\n      <td>171.7</td>\n      <td>ohc</td>\n      <td>four</td>\n      <td>52</td>\n      <td>37</td>\n      <td>7995.0</td>\n    </tr>\n    <tr>\n      <th>58</th>\n      <td>86</td>\n      <td>volkswagen</td>\n      <td>sedan</td>\n      <td>97.3</td>\n      <td>171.7</td>\n      <td>ohc</td>\n      <td>four</td>\n      <td>100</td>\n      <td>26</td>\n      <td>9995.0</td>\n    </tr>\n    <tr>\n      <th>59</th>\n      <td>87</td>\n      <td>volvo</td>\n      <td>sedan</td>\n      <td>104.3</td>\n      <td>188.8</td>\n      <td>ohc</td>\n      <td>four</td>\n      <td>114</td>\n      <td>23</td>\n      <td>12940.0</td>\n    </tr>\n    <tr>\n      <th>60</th>\n      <td>88</td>\n      <td>volvo</td>\n      <td>wagon</td>\n      <td>104.3</td>\n      <td>188.8</td>\n      <td>ohc</td>\n      <td>four</td>\n      <td>114</td>\n      <td>23</td>\n      <td>13415.0</td>\n    </tr>\n  </tbody>\n</table>\n</div>"
     },
     "metadata": {},
     "execution_count": 121
    }
   ],
   "source": [
    "data = pd.read_csv('E:\\Pycharm Projects\\Code Warriors\\PyNative\\Pandas Excersises\\Automobile_data.csv', na_values={\n",
    "'price':[\"?\",\"n.a\"],\n",
    "'stroke':[\"?\",\"n.a\"],\n",
    "'horsepower':[\"?\",\"n.a\"],\n",
    "'peak-rpm':[\"?\",\"n.a\"],\n",
    "'average-mileage':[\"?\",\"n.a\"]})\n",
    "data.tail(7)"
   ]
  },
  {
   "cell_type": "code",
   "execution_count": 122,
   "metadata": {},
   "outputs": [
    {
     "output_type": "execute_result",
     "data": {
      "text/plain": [
       "Index(['index', 'company', 'body-style', 'wheel-base', 'length', 'engine-type',\n",
       "       'num-of-cylinders', 'horsepower', 'average-mileage', 'price'],\n",
       "      dtype='object')"
      ]
     },
     "metadata": {},
     "execution_count": 122
    }
   ],
   "source": [
    "data.columns"
   ]
  },
  {
   "cell_type": "code",
   "execution_count": 123,
   "metadata": {},
   "outputs": [
    {
     "output_type": "execute_result",
     "data": {
      "text/plain": [
       "      company   price\n",
       "13  chevrolet  5151.0"
      ],
      "text/html": "<div>\n<style scoped>\n    .dataframe tbody tr th:only-of-type {\n        vertical-align: middle;\n    }\n\n    .dataframe tbody tr th {\n        vertical-align: top;\n    }\n\n    .dataframe thead th {\n        text-align: right;\n    }\n</style>\n<table border=\"1\" class=\"dataframe\">\n  <thead>\n    <tr style=\"text-align: right;\">\n      <th></th>\n      <th>company</th>\n      <th>price</th>\n    </tr>\n  </thead>\n  <tbody>\n    <tr>\n      <th>13</th>\n      <td>chevrolet</td>\n      <td>5151.0</td>\n    </tr>\n  </tbody>\n</table>\n</div>"
     },
     "metadata": {},
     "execution_count": 123
    }
   ],
   "source": [
    "data[['company', 'price']][data['price'] ==data.price.min() ]"
   ]
  },
  {
   "cell_type": "code",
   "execution_count": 124,
   "metadata": {},
   "outputs": [
    {
     "output_type": "execute_result",
     "data": {
      "text/plain": [
       "5151.0"
      ]
     },
     "metadata": {},
     "execution_count": 124
    }
   ],
   "source": [
    "data.price.min()"
   ]
  },
  {
   "cell_type": "code",
   "execution_count": 125,
   "metadata": {},
   "outputs": [
    {
     "output_type": "execute_result",
     "data": {
      "text/plain": [
       "    index company body-style  wheel-base  length engine-type num-of-cylinders  \\\n",
       "48     66  toyota  hatchback        95.7   158.7         ohc             four   \n",
       "49     67  toyota  hatchback        95.7   158.7         ohc             four   \n",
       "50     68  toyota  hatchback        95.7   158.7         ohc             four   \n",
       "51     69  toyota      wagon        95.7   169.7         ohc             four   \n",
       "52     70  toyota      wagon        95.7   169.7         ohc             four   \n",
       "53     71  toyota      wagon        95.7   169.7         ohc             four   \n",
       "54     79  toyota      wagon       104.5   187.8        dohc              six   \n",
       "\n",
       "    horsepower  average-mileage    price  \n",
       "48          62               35   5348.0  \n",
       "49          62               31   6338.0  \n",
       "50          62               31   6488.0  \n",
       "51          62               31   6918.0  \n",
       "52          62               27   7898.0  \n",
       "53          62               27   8778.0  \n",
       "54         156               19  15750.0  "
      ],
      "text/html": "<div>\n<style scoped>\n    .dataframe tbody tr th:only-of-type {\n        vertical-align: middle;\n    }\n\n    .dataframe tbody tr th {\n        vertical-align: top;\n    }\n\n    .dataframe thead th {\n        text-align: right;\n    }\n</style>\n<table border=\"1\" class=\"dataframe\">\n  <thead>\n    <tr style=\"text-align: right;\">\n      <th></th>\n      <th>index</th>\n      <th>company</th>\n      <th>body-style</th>\n      <th>wheel-base</th>\n      <th>length</th>\n      <th>engine-type</th>\n      <th>num-of-cylinders</th>\n      <th>horsepower</th>\n      <th>average-mileage</th>\n      <th>price</th>\n    </tr>\n  </thead>\n  <tbody>\n    <tr>\n      <th>48</th>\n      <td>66</td>\n      <td>toyota</td>\n      <td>hatchback</td>\n      <td>95.7</td>\n      <td>158.7</td>\n      <td>ohc</td>\n      <td>four</td>\n      <td>62</td>\n      <td>35</td>\n      <td>5348.0</td>\n    </tr>\n    <tr>\n      <th>49</th>\n      <td>67</td>\n      <td>toyota</td>\n      <td>hatchback</td>\n      <td>95.7</td>\n      <td>158.7</td>\n      <td>ohc</td>\n      <td>four</td>\n      <td>62</td>\n      <td>31</td>\n      <td>6338.0</td>\n    </tr>\n    <tr>\n      <th>50</th>\n      <td>68</td>\n      <td>toyota</td>\n      <td>hatchback</td>\n      <td>95.7</td>\n      <td>158.7</td>\n      <td>ohc</td>\n      <td>four</td>\n      <td>62</td>\n      <td>31</td>\n      <td>6488.0</td>\n    </tr>\n    <tr>\n      <th>51</th>\n      <td>69</td>\n      <td>toyota</td>\n      <td>wagon</td>\n      <td>95.7</td>\n      <td>169.7</td>\n      <td>ohc</td>\n      <td>four</td>\n      <td>62</td>\n      <td>31</td>\n      <td>6918.0</td>\n    </tr>\n    <tr>\n      <th>52</th>\n      <td>70</td>\n      <td>toyota</td>\n      <td>wagon</td>\n      <td>95.7</td>\n      <td>169.7</td>\n      <td>ohc</td>\n      <td>four</td>\n      <td>62</td>\n      <td>27</td>\n      <td>7898.0</td>\n    </tr>\n    <tr>\n      <th>53</th>\n      <td>71</td>\n      <td>toyota</td>\n      <td>wagon</td>\n      <td>95.7</td>\n      <td>169.7</td>\n      <td>ohc</td>\n      <td>four</td>\n      <td>62</td>\n      <td>27</td>\n      <td>8778.0</td>\n    </tr>\n    <tr>\n      <th>54</th>\n      <td>79</td>\n      <td>toyota</td>\n      <td>wagon</td>\n      <td>104.5</td>\n      <td>187.8</td>\n      <td>dohc</td>\n      <td>six</td>\n      <td>156</td>\n      <td>19</td>\n      <td>15750.0</td>\n    </tr>\n  </tbody>\n</table>\n</div>"
     },
     "metadata": {},
     "execution_count": 125
    }
   ],
   "source": [
    "data[data.company==\"toyota\"]"
   ]
  },
  {
   "cell_type": "code",
   "execution_count": 143,
   "metadata": {},
   "outputs": [
    {
     "output_type": "execute_result",
     "data": {
      "text/plain": [
       "    index      company   body-style  wheel-base  length engine-type  \\\n",
       "0       0  alfa-romero  convertible        88.6   168.8        dohc   \n",
       "1       1  alfa-romero  convertible        88.6   168.8        dohc   \n",
       "2       2  alfa-romero    hatchback        94.5   171.2        ohcv   \n",
       "3       3         audi        sedan        99.8   176.6         ohc   \n",
       "4       4         audi        sedan        99.4   176.6         ohc   \n",
       "..    ...          ...          ...         ...     ...         ...   \n",
       "56     81   volkswagen        sedan        97.3   171.7         ohc   \n",
       "57     82   volkswagen        sedan        97.3   171.7         ohc   \n",
       "58     86   volkswagen        sedan        97.3   171.7         ohc   \n",
       "59     87        volvo        sedan       104.3   188.8         ohc   \n",
       "60     88        volvo        wagon       104.3   188.8         ohc   \n",
       "\n",
       "   num-of-cylinders  horsepower  average-mileage    price  \n",
       "0              four         111               21  13495.0  \n",
       "1              four         111               21  16500.0  \n",
       "2               six         154               19  16500.0  \n",
       "3              four         102               24  13950.0  \n",
       "4              five         115               18  17450.0  \n",
       "..              ...         ...              ...      ...  \n",
       "56             four          85               27   7975.0  \n",
       "57             four          52               37   7995.0  \n",
       "58             four         100               26   9995.0  \n",
       "59             four         114               23  12940.0  \n",
       "60             four         114               23  13415.0  \n",
       "\n",
       "[61 rows x 10 columns]"
      ],
      "text/html": "<div>\n<style scoped>\n    .dataframe tbody tr th:only-of-type {\n        vertical-align: middle;\n    }\n\n    .dataframe tbody tr th {\n        vertical-align: top;\n    }\n\n    .dataframe thead th {\n        text-align: right;\n    }\n</style>\n<table border=\"1\" class=\"dataframe\">\n  <thead>\n    <tr style=\"text-align: right;\">\n      <th></th>\n      <th>index</th>\n      <th>company</th>\n      <th>body-style</th>\n      <th>wheel-base</th>\n      <th>length</th>\n      <th>engine-type</th>\n      <th>num-of-cylinders</th>\n      <th>horsepower</th>\n      <th>average-mileage</th>\n      <th>price</th>\n    </tr>\n  </thead>\n  <tbody>\n    <tr>\n      <th>0</th>\n      <td>0</td>\n      <td>alfa-romero</td>\n      <td>convertible</td>\n      <td>88.6</td>\n      <td>168.8</td>\n      <td>dohc</td>\n      <td>four</td>\n      <td>111</td>\n      <td>21</td>\n      <td>13495.0</td>\n    </tr>\n    <tr>\n      <th>1</th>\n      <td>1</td>\n      <td>alfa-romero</td>\n      <td>convertible</td>\n      <td>88.6</td>\n      <td>168.8</td>\n      <td>dohc</td>\n      <td>four</td>\n      <td>111</td>\n      <td>21</td>\n      <td>16500.0</td>\n    </tr>\n    <tr>\n      <th>2</th>\n      <td>2</td>\n      <td>alfa-romero</td>\n      <td>hatchback</td>\n      <td>94.5</td>\n      <td>171.2</td>\n      <td>ohcv</td>\n      <td>six</td>\n      <td>154</td>\n      <td>19</td>\n      <td>16500.0</td>\n    </tr>\n    <tr>\n      <th>3</th>\n      <td>3</td>\n      <td>audi</td>\n      <td>sedan</td>\n      <td>99.8</td>\n      <td>176.6</td>\n      <td>ohc</td>\n      <td>four</td>\n      <td>102</td>\n      <td>24</td>\n      <td>13950.0</td>\n    </tr>\n    <tr>\n      <th>4</th>\n      <td>4</td>\n      <td>audi</td>\n      <td>sedan</td>\n      <td>99.4</td>\n      <td>176.6</td>\n      <td>ohc</td>\n      <td>five</td>\n      <td>115</td>\n      <td>18</td>\n      <td>17450.0</td>\n    </tr>\n    <tr>\n      <th>...</th>\n      <td>...</td>\n      <td>...</td>\n      <td>...</td>\n      <td>...</td>\n      <td>...</td>\n      <td>...</td>\n      <td>...</td>\n      <td>...</td>\n      <td>...</td>\n      <td>...</td>\n    </tr>\n    <tr>\n      <th>56</th>\n      <td>81</td>\n      <td>volkswagen</td>\n      <td>sedan</td>\n      <td>97.3</td>\n      <td>171.7</td>\n      <td>ohc</td>\n      <td>four</td>\n      <td>85</td>\n      <td>27</td>\n      <td>7975.0</td>\n    </tr>\n    <tr>\n      <th>57</th>\n      <td>82</td>\n      <td>volkswagen</td>\n      <td>sedan</td>\n      <td>97.3</td>\n      <td>171.7</td>\n      <td>ohc</td>\n      <td>four</td>\n      <td>52</td>\n      <td>37</td>\n      <td>7995.0</td>\n    </tr>\n    <tr>\n      <th>58</th>\n      <td>86</td>\n      <td>volkswagen</td>\n      <td>sedan</td>\n      <td>97.3</td>\n      <td>171.7</td>\n      <td>ohc</td>\n      <td>four</td>\n      <td>100</td>\n      <td>26</td>\n      <td>9995.0</td>\n    </tr>\n    <tr>\n      <th>59</th>\n      <td>87</td>\n      <td>volvo</td>\n      <td>sedan</td>\n      <td>104.3</td>\n      <td>188.8</td>\n      <td>ohc</td>\n      <td>four</td>\n      <td>114</td>\n      <td>23</td>\n      <td>12940.0</td>\n    </tr>\n    <tr>\n      <th>60</th>\n      <td>88</td>\n      <td>volvo</td>\n      <td>wagon</td>\n      <td>104.3</td>\n      <td>188.8</td>\n      <td>ohc</td>\n      <td>four</td>\n      <td>114</td>\n      <td>23</td>\n      <td>13415.0</td>\n    </tr>\n  </tbody>\n</table>\n<p>61 rows × 10 columns</p>\n</div>"
     },
     "metadata": {},
     "execution_count": 143
    }
   ],
   "source": [
    "df = data.groupby(by= ['price'])\n",
    "df.head(10)"
   ]
  },
  {
   "cell_type": "code",
   "execution_count": 166,
   "metadata": {},
   "outputs": [
    {
     "output_type": "stream",
     "name": "stderr",
     "text": [
      "<ipython-input-166-33ab03a56b2a>:1: FutureWarning: Indexing with multiple keys (implicitly converted to a tuple of keys) will be deprecated, use a list instead.\n  data.groupby(\"body-style\")['price', 'average-mileage'].max()\n"
     ]
    },
    {
     "output_type": "execute_result",
     "data": {
      "text/plain": [
       "               price  average-mileage\n",
       "body-style                           \n",
       "convertible  37028.0               21\n",
       "hardtop      45400.0               17\n",
       "hatchback    16500.0               47\n",
       "sedan        41315.0               45\n",
       "wagon        28248.0               31"
      ],
      "text/html": "<div>\n<style scoped>\n    .dataframe tbody tr th:only-of-type {\n        vertical-align: middle;\n    }\n\n    .dataframe tbody tr th {\n        vertical-align: top;\n    }\n\n    .dataframe thead th {\n        text-align: right;\n    }\n</style>\n<table border=\"1\" class=\"dataframe\">\n  <thead>\n    <tr style=\"text-align: right;\">\n      <th></th>\n      <th>price</th>\n      <th>average-mileage</th>\n    </tr>\n    <tr>\n      <th>body-style</th>\n      <th></th>\n      <th></th>\n    </tr>\n  </thead>\n  <tbody>\n    <tr>\n      <th>convertible</th>\n      <td>37028.0</td>\n      <td>21</td>\n    </tr>\n    <tr>\n      <th>hardtop</th>\n      <td>45400.0</td>\n      <td>17</td>\n    </tr>\n    <tr>\n      <th>hatchback</th>\n      <td>16500.0</td>\n      <td>47</td>\n    </tr>\n    <tr>\n      <th>sedan</th>\n      <td>41315.0</td>\n      <td>45</td>\n    </tr>\n    <tr>\n      <th>wagon</th>\n      <td>28248.0</td>\n      <td>31</td>\n    </tr>\n  </tbody>\n</table>\n</div>"
     },
     "metadata": {},
     "execution_count": 166
    }
   ],
   "source": [
    "data.groupby(\"body-style\")['price', 'average-mileage'].max()\n"
   ]
  },
  {
   "cell_type": "code",
   "execution_count": 172,
   "metadata": {},
   "outputs": [
    {
     "output_type": "stream",
     "name": "stderr",
     "text": [
      "<ipython-input-172-cd0df4ef82db>:1: FutureWarning: Indexing with multiple keys (implicitly converted to a tuple of keys) will be deprecated, use a list instead.\n  data.groupby('company')['company', 'average-mileage'].mean()\n"
     ]
    },
    {
     "output_type": "execute_result",
     "data": {
      "text/plain": [
       "               average-mileage\n",
       "company                       \n",
       "alfa-romero          20.333333\n",
       "audi                 20.000000\n",
       "bmw                  19.000000\n",
       "chevrolet            41.000000\n",
       "dodge                31.000000\n",
       "honda                26.333333\n",
       "isuzu                33.333333\n",
       "jaguar               14.333333\n",
       "mazda                28.000000\n",
       "mercedes-benz        18.000000\n",
       "mitsubishi           29.500000\n",
       "nissan               31.400000\n",
       "porsche              17.000000\n",
       "toyota               28.714286\n",
       "volkswagen           31.750000\n",
       "volvo                23.000000"
      ],
      "text/html": "<div>\n<style scoped>\n    .dataframe tbody tr th:only-of-type {\n        vertical-align: middle;\n    }\n\n    .dataframe tbody tr th {\n        vertical-align: top;\n    }\n\n    .dataframe thead th {\n        text-align: right;\n    }\n</style>\n<table border=\"1\" class=\"dataframe\">\n  <thead>\n    <tr style=\"text-align: right;\">\n      <th></th>\n      <th>average-mileage</th>\n    </tr>\n    <tr>\n      <th>company</th>\n      <th></th>\n    </tr>\n  </thead>\n  <tbody>\n    <tr>\n      <th>alfa-romero</th>\n      <td>20.333333</td>\n    </tr>\n    <tr>\n      <th>audi</th>\n      <td>20.000000</td>\n    </tr>\n    <tr>\n      <th>bmw</th>\n      <td>19.000000</td>\n    </tr>\n    <tr>\n      <th>chevrolet</th>\n      <td>41.000000</td>\n    </tr>\n    <tr>\n      <th>dodge</th>\n      <td>31.000000</td>\n    </tr>\n    <tr>\n      <th>honda</th>\n      <td>26.333333</td>\n    </tr>\n    <tr>\n      <th>isuzu</th>\n      <td>33.333333</td>\n    </tr>\n    <tr>\n      <th>jaguar</th>\n      <td>14.333333</td>\n    </tr>\n    <tr>\n      <th>mazda</th>\n      <td>28.000000</td>\n    </tr>\n    <tr>\n      <th>mercedes-benz</th>\n      <td>18.000000</td>\n    </tr>\n    <tr>\n      <th>mitsubishi</th>\n      <td>29.500000</td>\n    </tr>\n    <tr>\n      <th>nissan</th>\n      <td>31.400000</td>\n    </tr>\n    <tr>\n      <th>porsche</th>\n      <td>17.000000</td>\n    </tr>\n    <tr>\n      <th>toyota</th>\n      <td>28.714286</td>\n    </tr>\n    <tr>\n      <th>volkswagen</th>\n      <td>31.750000</td>\n    </tr>\n    <tr>\n      <th>volvo</th>\n      <td>23.000000</td>\n    </tr>\n  </tbody>\n</table>\n</div>"
     },
     "metadata": {},
     "execution_count": 172
    }
   ],
   "source": [
    "data.groupby('company')['company', 'average-mileage'].mean()"
   ]
  },
  {
   "cell_type": "code",
   "execution_count": 224,
   "metadata": {},
   "outputs": [
    {
     "output_type": "execute_result",
     "data": {
      "text/plain": [
       "        company  horsepower    price\n",
       "0   alfa-romero         111  13495.0\n",
       "1   alfa-romero         111  16500.0\n",
       "2   alfa-romero         154  16500.0\n",
       "3          audi         102  13950.0\n",
       "5          audi         110  15250.0\n",
       "6          audi         110  18920.0\n",
       "4          audi         115  17450.0\n",
       "7           bmw         101  16430.0\n",
       "8           bmw         101  16925.0\n",
       "9           bmw         121  20970.0\n",
       "10          bmw         182  30760.0\n",
       "12          bmw         182  36880.0\n",
       "11          bmw         182  41315.0\n",
       "13    chevrolet          48   5151.0\n",
       "14    chevrolet          70   6295.0\n",
       "15    chevrolet          70   6575.0\n",
       "17        dodge          68   6229.0\n",
       "16        dodge          68   6377.0\n",
       "18        honda          76   7295.0\n",
       "20        honda         100  10345.0\n",
       "19        honda         101  12945.0\n",
       "22        isuzu          70      NaN\n",
       "23        isuzu          70      NaN\n",
       "21        isuzu          78   6785.0\n",
       "24       jaguar         176  32250.0\n",
       "25       jaguar         176  35550.0\n",
       "26       jaguar         262  36000.0\n",
       "27        mazda          68   5195.0\n",
       "28        mazda          68   6095.0\n",
       "29        mazda          68   6795.0"
      ],
      "text/html": "<div>\n<style scoped>\n    .dataframe tbody tr th:only-of-type {\n        vertical-align: middle;\n    }\n\n    .dataframe tbody tr th {\n        vertical-align: top;\n    }\n\n    .dataframe thead th {\n        text-align: right;\n    }\n</style>\n<table border=\"1\" class=\"dataframe\">\n  <thead>\n    <tr style=\"text-align: right;\">\n      <th></th>\n      <th>company</th>\n      <th>horsepower</th>\n      <th>price</th>\n    </tr>\n  </thead>\n  <tbody>\n    <tr>\n      <th>0</th>\n      <td>alfa-romero</td>\n      <td>111</td>\n      <td>13495.0</td>\n    </tr>\n    <tr>\n      <th>1</th>\n      <td>alfa-romero</td>\n      <td>111</td>\n      <td>16500.0</td>\n    </tr>\n    <tr>\n      <th>2</th>\n      <td>alfa-romero</td>\n      <td>154</td>\n      <td>16500.0</td>\n    </tr>\n    <tr>\n      <th>3</th>\n      <td>audi</td>\n      <td>102</td>\n      <td>13950.0</td>\n    </tr>\n    <tr>\n      <th>5</th>\n      <td>audi</td>\n      <td>110</td>\n      <td>15250.0</td>\n    </tr>\n    <tr>\n      <th>6</th>\n      <td>audi</td>\n      <td>110</td>\n      <td>18920.0</td>\n    </tr>\n    <tr>\n      <th>4</th>\n      <td>audi</td>\n      <td>115</td>\n      <td>17450.0</td>\n    </tr>\n    <tr>\n      <th>7</th>\n      <td>bmw</td>\n      <td>101</td>\n      <td>16430.0</td>\n    </tr>\n    <tr>\n      <th>8</th>\n      <td>bmw</td>\n      <td>101</td>\n      <td>16925.0</td>\n    </tr>\n    <tr>\n      <th>9</th>\n      <td>bmw</td>\n      <td>121</td>\n      <td>20970.0</td>\n    </tr>\n    <tr>\n      <th>10</th>\n      <td>bmw</td>\n      <td>182</td>\n      <td>30760.0</td>\n    </tr>\n    <tr>\n      <th>12</th>\n      <td>bmw</td>\n      <td>182</td>\n      <td>36880.0</td>\n    </tr>\n    <tr>\n      <th>11</th>\n      <td>bmw</td>\n      <td>182</td>\n      <td>41315.0</td>\n    </tr>\n    <tr>\n      <th>13</th>\n      <td>chevrolet</td>\n      <td>48</td>\n      <td>5151.0</td>\n    </tr>\n    <tr>\n      <th>14</th>\n      <td>chevrolet</td>\n      <td>70</td>\n      <td>6295.0</td>\n    </tr>\n    <tr>\n      <th>15</th>\n      <td>chevrolet</td>\n      <td>70</td>\n      <td>6575.0</td>\n    </tr>\n    <tr>\n      <th>17</th>\n      <td>dodge</td>\n      <td>68</td>\n      <td>6229.0</td>\n    </tr>\n    <tr>\n      <th>16</th>\n      <td>dodge</td>\n      <td>68</td>\n      <td>6377.0</td>\n    </tr>\n    <tr>\n      <th>18</th>\n      <td>honda</td>\n      <td>76</td>\n      <td>7295.0</td>\n    </tr>\n    <tr>\n      <th>20</th>\n      <td>honda</td>\n      <td>100</td>\n      <td>10345.0</td>\n    </tr>\n    <tr>\n      <th>19</th>\n      <td>honda</td>\n      <td>101</td>\n      <td>12945.0</td>\n    </tr>\n    <tr>\n      <th>22</th>\n      <td>isuzu</td>\n      <td>70</td>\n      <td>NaN</td>\n    </tr>\n    <tr>\n      <th>23</th>\n      <td>isuzu</td>\n      <td>70</td>\n      <td>NaN</td>\n    </tr>\n    <tr>\n      <th>21</th>\n      <td>isuzu</td>\n      <td>78</td>\n      <td>6785.0</td>\n    </tr>\n    <tr>\n      <th>24</th>\n      <td>jaguar</td>\n      <td>176</td>\n      <td>32250.0</td>\n    </tr>\n    <tr>\n      <th>25</th>\n      <td>jaguar</td>\n      <td>176</td>\n      <td>35550.0</td>\n    </tr>\n    <tr>\n      <th>26</th>\n      <td>jaguar</td>\n      <td>262</td>\n      <td>36000.0</td>\n    </tr>\n    <tr>\n      <th>27</th>\n      <td>mazda</td>\n      <td>68</td>\n      <td>5195.0</td>\n    </tr>\n    <tr>\n      <th>28</th>\n      <td>mazda</td>\n      <td>68</td>\n      <td>6095.0</td>\n    </tr>\n    <tr>\n      <th>29</th>\n      <td>mazda</td>\n      <td>68</td>\n      <td>6795.0</td>\n    </tr>\n  </tbody>\n</table>\n</div>"
     },
     "metadata": {},
     "execution_count": 224
    }
   ],
   "source": [
    "data.sort_values(by=['company', 'horsepower', 'price'])[['company', 'horsepower', 'price']].head(30)"
   ]
  },
  {
   "cell_type": "code",
   "execution_count": 204,
   "metadata": {},
   "outputs": [
    {
     "output_type": "execute_result",
     "data": {
      "text/plain": [
       "                      price\n",
       "company                    \n",
       "alfa-romero    15498.333333\n",
       "audi           16392.500000\n",
       "bmw            27213.333333\n",
       "chevrolet       6007.000000\n",
       "dodge           6303.000000\n",
       "honda          10195.000000\n",
       "isuzu           6785.000000\n",
       "jaguar         34600.000000\n",
       "mazda           9654.800000\n",
       "mercedes-benz  35040.000000\n",
       "mitsubishi      6689.000000\n",
       "nissan          8289.000000\n",
       "porsche        35528.000000\n",
       "toyota          8216.857143\n",
       "volkswagen      8435.000000\n",
       "volvo          13177.500000\n",
       "All            15387.000000"
      ],
      "text/html": "<div>\n<style scoped>\n    .dataframe tbody tr th:only-of-type {\n        vertical-align: middle;\n    }\n\n    .dataframe tbody tr th {\n        vertical-align: top;\n    }\n\n    .dataframe thead th {\n        text-align: right;\n    }\n</style>\n<table border=\"1\" class=\"dataframe\">\n  <thead>\n    <tr style=\"text-align: right;\">\n      <th></th>\n      <th>price</th>\n    </tr>\n    <tr>\n      <th>company</th>\n      <th></th>\n    </tr>\n  </thead>\n  <tbody>\n    <tr>\n      <th>alfa-romero</th>\n      <td>15498.333333</td>\n    </tr>\n    <tr>\n      <th>audi</th>\n      <td>16392.500000</td>\n    </tr>\n    <tr>\n      <th>bmw</th>\n      <td>27213.333333</td>\n    </tr>\n    <tr>\n      <th>chevrolet</th>\n      <td>6007.000000</td>\n    </tr>\n    <tr>\n      <th>dodge</th>\n      <td>6303.000000</td>\n    </tr>\n    <tr>\n      <th>honda</th>\n      <td>10195.000000</td>\n    </tr>\n    <tr>\n      <th>isuzu</th>\n      <td>6785.000000</td>\n    </tr>\n    <tr>\n      <th>jaguar</th>\n      <td>34600.000000</td>\n    </tr>\n    <tr>\n      <th>mazda</th>\n      <td>9654.800000</td>\n    </tr>\n    <tr>\n      <th>mercedes-benz</th>\n      <td>35040.000000</td>\n    </tr>\n    <tr>\n      <th>mitsubishi</th>\n      <td>6689.000000</td>\n    </tr>\n    <tr>\n      <th>nissan</th>\n      <td>8289.000000</td>\n    </tr>\n    <tr>\n      <th>porsche</th>\n      <td>35528.000000</td>\n    </tr>\n    <tr>\n      <th>toyota</th>\n      <td>8216.857143</td>\n    </tr>\n    <tr>\n      <th>volkswagen</th>\n      <td>8435.000000</td>\n    </tr>\n    <tr>\n      <th>volvo</th>\n      <td>13177.500000</td>\n    </tr>\n    <tr>\n      <th>All</th>\n      <td>15387.000000</td>\n    </tr>\n  </tbody>\n</table>\n</div>"
     },
     "metadata": {},
     "execution_count": 204
    }
   ],
   "source": [
    "pd.pivot_table(data, values= \"price\", index= \"company\",fill_value= \"0\", margins= True, aggfunc= np.mean )"
   ]
  },
  {
   "cell_type": "code",
   "execution_count": 226,
   "metadata": {},
   "outputs": [
    {
     "output_type": "execute_result",
     "data": {
      "text/plain": [
       "                Company   Price\n",
       "German   0         Ford   23845\n",
       "         1     Mercedes  171995\n",
       "         2          BMV  135925\n",
       "         3         Audi   71400\n",
       "Japanese 0       Toyota   29995\n",
       "         1        Honda   23600\n",
       "         2       Nissan   61500\n",
       "         3  Mitsubishi    58900"
      ],
      "text/html": "<div>\n<style scoped>\n    .dataframe tbody tr th:only-of-type {\n        vertical-align: middle;\n    }\n\n    .dataframe tbody tr th {\n        vertical-align: top;\n    }\n\n    .dataframe thead th {\n        text-align: right;\n    }\n</style>\n<table border=\"1\" class=\"dataframe\">\n  <thead>\n    <tr style=\"text-align: right;\">\n      <th></th>\n      <th></th>\n      <th>Company</th>\n      <th>Price</th>\n    </tr>\n  </thead>\n  <tbody>\n    <tr>\n      <th rowspan=\"4\" valign=\"top\">German</th>\n      <th>0</th>\n      <td>Ford</td>\n      <td>23845</td>\n    </tr>\n    <tr>\n      <th>1</th>\n      <td>Mercedes</td>\n      <td>171995</td>\n    </tr>\n    <tr>\n      <th>2</th>\n      <td>BMV</td>\n      <td>135925</td>\n    </tr>\n    <tr>\n      <th>3</th>\n      <td>Audi</td>\n      <td>71400</td>\n    </tr>\n    <tr>\n      <th rowspan=\"4\" valign=\"top\">Japanese</th>\n      <th>0</th>\n      <td>Toyota</td>\n      <td>29995</td>\n    </tr>\n    <tr>\n      <th>1</th>\n      <td>Honda</td>\n      <td>23600</td>\n    </tr>\n    <tr>\n      <th>2</th>\n      <td>Nissan</td>\n      <td>61500</td>\n    </tr>\n    <tr>\n      <th>3</th>\n      <td>Mitsubishi</td>\n      <td>58900</td>\n    </tr>\n  </tbody>\n</table>\n</div>"
     },
     "metadata": {},
     "execution_count": 226
    }
   ],
   "source": [
    "GermanCars = {'Company': ['Ford', 'Mercedes', 'BMV', 'Audi'], 'Price': [23845, 171995, 135925 , 71400]}\n",
    "JapaneseCars = {'Company': ['Toyota', 'Honda', 'Nissan', 'Mitsubishi '], 'Price': [29995, 23600, 61500 , 58900]}\n",
    "df_gc = pd.DataFrame.from_dict(GermanCars)\n",
    "df_jc = pd.DataFrame.from_dict(JapaneseCars)\n",
    "pd.concat([df_gc, df_jc], keys= ['German', 'Japanese'])\n"
   ]
  },
  {
   "cell_type": "code",
   "execution_count": null,
   "metadata": {},
   "outputs": [],
   "source": []
  }
 ]
}